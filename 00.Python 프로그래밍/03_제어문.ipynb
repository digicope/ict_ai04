{
 "cells": [
  {
   "cell_type": "markdown",
   "id": "121053ba-6451-436a-8c7b-1877579d359e",
   "metadata": {},
   "source": [
    "### 제어문  : if문, for 문, while문, with ~ as 문"
   ]
  },
  {
   "cell_type": "markdown",
   "id": "bcd083f4-fc92-4fcc-bea0-2259b69b3385",
   "metadata": {},
   "source": [
    "### [1] 조건문\n",
    "### if문"
   ]
  },
  {
   "cell_type": "code",
   "execution_count": 14,
   "id": "1da12fad-8bbe-4451-aba4-398bcb70bb8e",
   "metadata": {},
   "outputs": [],
   "source": [
    "a = 10\n",
    "if a == 10 :\n",
    "    print('a = 10')    \n",
    "else:\n",
    "    print(a)"
   ]
  },
  {
   "cell_type": "code",
   "execution_count": 26,
   "id": "e8802df0-a29c-4ca8-b31c-cfd52e8c37a8",
   "metadata": {},
   "outputs": [
    {
     "name": "stdout",
     "output_type": "stream",
     "text": [
      "order price: 5000\n"
     ]
    }
   ],
   "source": [
    "order = 'spagetti'\n",
    "\n",
    "if order == 'spagetti':\n",
    "    price = 5000\n",
    "elif order == 'spam':\n",
    "    price = 6000\n",
    "elif order == 'egg':\n",
    "    price = 7000\n",
    "else:\n",
    "    price = 0\n",
    "    \n",
    "print('order price: %d'%price)    "
   ]
  },
  {
   "cell_type": "code",
   "execution_count": 40,
   "id": "ac407e4a-5f8b-4ca8-9b30-7f947a07a40f",
   "metadata": {},
   "outputs": [
    {
     "name": "stdout",
     "output_type": "stream",
     "text": [
      "order price: 5000\n",
      "order price: 11000\n"
     ]
    }
   ],
   "source": [
    "# dict 사용\n",
    "order = {'spagetti':5000,'spam':6000,'egg':7000}\n",
    "print('order price: %d'%order['spagetti'])\n",
    "print('order price: %d'%(order['spagetti'] + order['spam']))"
   ]
  },
  {
   "cell_type": "code",
   "execution_count": 49,
   "id": "d53e2adb-1854-4bdf-b3b4-c20627a5a17f",
   "metadata": {},
   "outputs": [
    {
     "name": "stdout",
     "output_type": "stream",
     "text": [
      "2.5\n"
     ]
    }
   ],
   "source": [
    "# 전통 언어 스타일\n",
    "a = 10\n",
    "if a > 5:\n",
    "    x = a * 2\n",
    "else:\n",
    "    x = a / 2\n",
    "print(x)  "
   ]
  },
  {
   "cell_type": "code",
   "execution_count": 75,
   "id": "0611cd08-ad2b-4f2c-bd19-8b952efac74d",
   "metadata": {},
   "outputs": [
    {
     "name": "stdout",
     "output_type": "stream",
     "text": [
      "2.0\n"
     ]
    }
   ],
   "source": [
    "# 파이썬 스타일(Pythonic)\n",
    "a = 4\n",
    "x = (a/2,a*2)[a > 5]    # True:1, False:0 과 호환\n",
    "print(x)"
   ]
  },
  {
   "cell_type": "markdown",
   "id": "1a875ba7-3557-4674-9fb3-c1591715c583",
   "metadata": {},
   "source": [
    "### [2] 반복문\n",
    "### for문"
   ]
  },
  {
   "cell_type": "code",
   "execution_count": 110,
   "id": "eaecf40e-1779-4550-b5d7-82003638fdc3",
   "metadata": {},
   "outputs": [
    {
     "name": "stdout",
     "output_type": "stream",
     "text": [
      "0\n",
      "1\n",
      "2\n",
      "3\n",
      "4\n",
      "5\n",
      "6\n",
      "7\n",
      "8\n",
      "9\n"
     ]
    }
   ],
   "source": [
    "for k in range(10):   # 10회 빈복\n",
    "    print(k)"
   ]
  },
  {
   "cell_type": "code",
   "execution_count": 122,
   "id": "f44e8c66-08a2-4944-8ce6-f67b7612a7dd",
   "metadata": {},
   "outputs": [
    {
     "name": "stdout",
     "output_type": "stream",
     "text": [
      "0\n",
      "1\n",
      "2\n",
      "3\n",
      "4\n",
      "5\n",
      "6\n",
      "7\n",
      "8\n",
      "9\n"
     ]
    }
   ],
   "source": [
    "l = [0,1,2,3,4,5,6,7,8,9]\n",
    "for k in l:\n",
    "    print(k)   "
   ]
  },
  {
   "cell_type": "code",
   "execution_count": 155,
   "id": "1120fa95-6375-41f3-835e-09f2b69b65da",
   "metadata": {},
   "outputs": [
    {
     "name": "stdout",
     "output_type": "stream",
     "text": [
      "0 cat\n",
      "1 dog\n",
      "2 bird\n",
      "3 pig\n",
      "4 tiger\n"
     ]
    }
   ],
   "source": [
    "l = ['cat','dog','bird','pig','tiger']\n",
    "for i,k in enumerate(l):    # enumerate()함수 : 요소의 인덱스와 요소를 함께 반환\n",
    "    print(i,k)"
   ]
  },
  {
   "cell_type": "code",
   "execution_count": 175,
   "id": "d7908b5c-2fac-4ffc-a2f8-b8c5bac54c21",
   "metadata": {},
   "outputs": [
    {
     "name": "stdout",
     "output_type": "stream",
     "text": [
      "3\n",
      "4\n",
      "5\n",
      "6\n",
      "7\n",
      "8\n",
      "9\n"
     ]
    }
   ],
   "source": [
    "# continue문 : for문(처음)으로 제어 흐름을 변경한다\n",
    "for x in range(10):\n",
    "    if x < 3:\n",
    "        continue\n",
    "    print(x)"
   ]
  },
  {
   "cell_type": "code",
   "execution_count": 177,
   "id": "6bc55345-3f53-441c-81f1-c56e57c96c71",
   "metadata": {},
   "outputs": [
    {
     "name": "stdout",
     "output_type": "stream",
     "text": [
      "0\n",
      "1\n",
      "2\n",
      "3\n",
      "4\n",
      "5\n"
     ]
    }
   ],
   "source": [
    "# break문 : for 문의 루프에서 탈출\n",
    "for x in range(1000):\n",
    "    if x > 5:\n",
    "        break\n",
    "    print(x)"
   ]
  },
  {
   "cell_type": "markdown",
   "id": "b3c0c749-89cb-419a-bbaf-784495e20687",
   "metadata": {},
   "source": [
    "### while문"
   ]
  },
  {
   "cell_type": "code",
   "execution_count": 180,
   "id": "f0be6d92-fc04-4ca1-b65c-f78b9b7dfcf6",
   "metadata": {
    "collapsed": true,
    "jupyter": {
     "outputs_hidden": true
    }
   },
   "outputs": [
    {
     "name": "stdout",
     "output_type": "stream",
     "text": [
      "0\n",
      "1\n",
      "2\n",
      "3\n",
      "4\n",
      "5\n",
      "6\n",
      "7\n",
      "8\n",
      "9\n"
     ]
    }
   ],
   "source": [
    "a = 0\n",
    "while True:       # 무한 루프\n",
    "    print(a)\n",
    "    a += 1        # a = a + 1\n",
    "    if a == 10:   # a가 10이면 무한 루프 탈출\n",
    "        break    "
   ]
  },
  {
   "cell_type": "code",
   "execution_count": 188,
   "id": "e89bbe7f-9eb0-4bb6-9f7e-b73647dd8ea1",
   "metadata": {
    "collapsed": true,
    "jupyter": {
     "outputs_hidden": true
    }
   },
   "outputs": [
    {
     "name": "stdout",
     "output_type": "stream",
     "text": [
      "10\n",
      "11\n",
      "12\n",
      "13\n",
      "14\n",
      "15\n",
      "16\n",
      "17\n",
      "18\n",
      "19\n",
      "20\n"
     ]
    }
   ],
   "source": [
    "a = 0\n",
    "while True:        # 무한 루프\n",
    "    a += 1         # a = a + 1\n",
    "\n",
    "    if a < 10:     # a < 10이면 continue\n",
    "        continue\n",
    "\n",
    "    print(a)\n",
    "\n",
    "    if a == 20:    # a가 20이면 무한 루프 탈출\n",
    "        break"
   ]
  },
  {
   "cell_type": "markdown",
   "id": "af975316-bfa7-4d72-81ba-2389c43c63e0",
   "metadata": {},
   "source": [
    "### with ~ as문"
   ]
  },
  {
   "cell_type": "code",
   "execution_count": 191,
   "id": "51a6df58-da59-4b05-85d3-838e1bc7516d",
   "metadata": {},
   "outputs": [
    {
     "name": "stdout",
     "output_type": "stream",
     "text": [
      "1번째 줄입니다\n",
      "2번째 줄입니다\n",
      "3번째 줄입니다\n",
      "\n"
     ]
    }
   ],
   "source": [
    "# 저수준 파일 제어\n",
    "f = open('file.txt','w')  # 쓰기모드, 없으면 생성, 있으면 삭제해서 새로 생성\n",
    "f.write('1번째 줄입니다\\n')\n",
    "f.write('2번째 줄입니다\\n')\n",
    "f.write('3번째 줄입니다\\n')\n",
    "f.close()                 # file 객체를 소멸\n",
    "\n",
    "f = open('file.txt','r')  # 읽기 모드, file 객체를 생성\n",
    "data = f.read()\n",
    "print(data)\n",
    "f.close()"
   ]
  },
  {
   "cell_type": "code",
   "execution_count": 193,
   "id": "a0c7cd09-1354-4c84-bb9c-be8583244a6d",
   "metadata": {},
   "outputs": [
    {
     "name": "stdout",
     "output_type": "stream",
     "text": [
      "#1번째 줄입니다\n",
      "#2번째 줄입니다\n",
      "#3번째 줄입니다\n",
      "\n"
     ]
    }
   ],
   "source": [
    "with open('file.txt','w') as f:\n",
    "    f.write('#1번째 줄입니다\\n')\n",
    "    f.write('#2번째 줄입니다\\n')\n",
    "    f.write('#3번째 줄입니다\\n')\n",
    "\n",
    "with open('file.txt','r') as f:\n",
    "    data = f.read()\n",
    "    print(data)"
   ]
  },
  {
   "cell_type": "code",
   "execution_count": null,
   "id": "c54bf3b0-99db-487b-b3fb-fcbaf506b6bf",
   "metadata": {},
   "outputs": [],
   "source": []
  }
 ],
 "metadata": {
  "kernelspec": {
   "display_name": "Python [conda env:base] *",
   "language": "python",
   "name": "conda-base-py"
  },
  "language_info": {
   "codemirror_mode": {
    "name": "ipython",
    "version": 3
   },
   "file_extension": ".py",
   "mimetype": "text/x-python",
   "name": "python",
   "nbconvert_exporter": "python",
   "pygments_lexer": "ipython3",
   "version": "3.12.7"
  }
 },
 "nbformat": 4,
 "nbformat_minor": 5
}
