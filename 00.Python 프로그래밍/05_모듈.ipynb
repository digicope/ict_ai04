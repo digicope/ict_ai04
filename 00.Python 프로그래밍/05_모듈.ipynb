{
 "cells": [
  {
   "cell_type": "markdown",
   "id": "4fb382cc-4648-47fb-b159-32ca613539a7",
   "metadata": {},
   "source": [
    "### 모듈\n",
    "#### : 함수나 변수 또는 클래스를 모아놓은 소스 파일, xxx.py"
   ]
  },
  {
   "cell_type": "code",
   "execution_count": 14,
   "id": "09c75c55-4b07-4211-9b17-2fb4513f3402",
   "metadata": {},
   "outputs": [
    {
     "name": "stdout",
     "output_type": "stream",
     "text": [
      "add is called!\n",
      "30\n"
     ]
    }
   ],
   "source": [
    "# # 함수 정의\n",
    "# def add(a,b):\n",
    "#     c = a + b\n",
    "#     print('add is called!')\n",
    "#     return c\n",
    "\n",
    "# def subtract(a,b):\n",
    "#     c = a - b\n",
    "#     print('subtract is called!')\n",
    "#     return c\n",
    "\n",
    "# def multiply(a,b):\n",
    "#     c = a * b\n",
    "#     print('multiply is called!')\n",
    "#     return c\n",
    "\n",
    "# def divide(a,b):\n",
    "#     c = a / b\n",
    "#     print('divide is called!')\n",
    "#     return c\n",
    "\n",
    "# if __name__ == '__main__':\n",
    "#     ret = add(10,20)\n",
    "#     print(ret)"
   ]
  },
  {
   "cell_type": "code",
   "execution_count": 15,
   "id": "506b35d4-a6fb-4479-8129-0f901bd33d10",
   "metadata": {},
   "outputs": [
    {
     "name": "stdout",
     "output_type": "stream",
     "text": [
      "add is called!\n",
      "30\n",
      "subtract is called!\n",
      "-10\n"
     ]
    }
   ],
   "source": [
    "# 외부 모듈을 import  : 함수로 구현된 모듈을 import\n",
    "# import calculator \n",
    "# ret = calculator.add(10,20)\n",
    "\n",
    "import calculator as cl\n",
    "\n",
    "if __name__ == '__main__':\n",
    "    ret = cl.add(10,20)\n",
    "    print(ret)\n",
    "\n",
    "    ret = cl.subtract(10,20)\n",
    "    print(ret)"
   ]
  },
  {
   "cell_type": "code",
   "execution_count": 5,
   "id": "040512c4-06a1-44ba-804e-f451e14a9e6a",
   "metadata": {},
   "outputs": [],
   "source": [
    "# first.py (import second),  second.py ,   third.py\n",
    "# >> Python first.py     # __name__ 은 '__main__' , second.py의 __name__은 'second'\n",
    "# >> Python second.py    # second.py의 __name__은 '__main__'"
   ]
  },
  {
   "cell_type": "code",
   "execution_count": 11,
   "id": "ee6a60a6-f75d-43cc-9fbf-4423b109610f",
   "metadata": {},
   "outputs": [],
   "source": [
    "import numpy as np\n",
    "import pandas as pd\n",
    "# import tensorflow as tf\n",
    "\n",
    "# 파이썬 외부 모듈(라이브러리) 설치 경로\n",
    "# C:\\Users\\사용자계정명\\Anaconda3\\Lib\\site-packages\n",
    "# C:\\ProgramData\\Anaconda3\\Lib\\site-packages\n",
    "# >> pip install tensorflow"
   ]
  },
  {
   "cell_type": "code",
   "execution_count": 17,
   "id": "8f8b17c6-ec8d-42c7-9ed5-45dd4b6e6a1d",
   "metadata": {},
   "outputs": [
    {
     "name": "stdout",
     "output_type": "stream",
     "text": [
      "add is called!\n"
     ]
    },
    {
     "data": {
      "text/plain": [
       "30"
      ]
     },
     "execution_count": 17,
     "metadata": {},
     "output_type": "execute_result"
    }
   ],
   "source": [
    "# 패키지나 모듈에서 일부 함수나 클래스를 가져오는 경우 \n",
    "from calculator import add             # add 하나만 import\n",
    "from calculator import add, subtract   # 두개만 import\n",
    "from calculator import *               # 모두 import\n",
    "add(10,20)   # 모듈이름을 사용하지 않고 바로 접근 가능하다"
   ]
  },
  {
   "cell_type": "code",
   "execution_count": null,
   "id": "c6ee15e7-9d32-4aa3-afba-b05289ef8fdf",
   "metadata": {},
   "outputs": [],
   "source": []
  }
 ],
 "metadata": {
  "kernelspec": {
   "display_name": "Python [conda env:base] *",
   "language": "python",
   "name": "conda-base-py"
  },
  "language_info": {
   "codemirror_mode": {
    "name": "ipython",
    "version": 3
   },
   "file_extension": ".py",
   "mimetype": "text/x-python",
   "name": "python",
   "nbconvert_exporter": "python",
   "pygments_lexer": "ipython3",
   "version": "3.12.7"
  }
 },
 "nbformat": 4,
 "nbformat_minor": 5
}
