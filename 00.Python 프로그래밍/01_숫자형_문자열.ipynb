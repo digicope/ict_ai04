{
 "cells": [
  {
   "cell_type": "markdown",
   "id": "d595460f-0996-48f1-8bfc-7cfca67711a8",
   "metadata": {},
   "source": [
    "###  주피터 노트북 필수 단축키\n",
    "- shift + enter : 셀 실행 후 다음 셀로 이동\n",
    "- alt + enter : 셀 실행 후 다음에 셀을 추가\n",
    "- ctrl + '/' : 주석문 설정/해제\n",
    "- Tab : 들여 쓰기\n",
    "- shift + Tab : 들여 쓰기 해제"
   ]
  },
  {
   "cell_type": "code",
   "execution_count": 2,
   "id": "8fd98cfc-e65a-45a2-be29-e54a961ab03d",
   "metadata": {},
   "outputs": [
    {
     "name": "stdout",
     "output_type": "stream",
     "text": [
      "50\n"
     ]
    }
   ],
   "source": [
    "a = 20\n",
    "b = 30\n",
    "c = a + b\n",
    "print(c)"
   ]
  },
  {
   "cell_type": "code",
   "execution_count": 3,
   "id": "7065f9f6-bf04-4907-b124-77c1769a23b6",
   "metadata": {},
   "outputs": [
    {
     "name": "stdout",
     "output_type": "stream",
     "text": [
      "3.12.7 | packaged by Anaconda, Inc. | (main, Oct  4 2024, 13:17:27) [MSC v.1929 64 bit (AMD64)]\n"
     ]
    }
   ],
   "source": [
    "# 파이썬 버전 확인\n",
    "import sys\n",
    "print(sys.version)"
   ]
  },
  {
   "cell_type": "markdown",
   "id": "054ff075-a7b4-498e-b533-2966417d7863",
   "metadata": {},
   "source": [
    "### 파이썬 자료형\n",
    "#### 숫자형\n",
    "- 정수형 : int 형\n",
    "- 실수형 : float형"
   ]
  },
  {
   "cell_type": "code",
   "execution_count": 5,
   "id": "65c7de7d-9361-4149-88fc-f02c46d75a47",
   "metadata": {},
   "outputs": [
    {
     "name": "stdout",
     "output_type": "stream",
     "text": [
      "<class 'int'>\n",
      "12445\n",
      "<class 'int'>\n"
     ]
    }
   ],
   "source": [
    "a = 12345\n",
    "b = 100\n",
    "print(type(a))   # 정수형\n",
    "c = a + b\n",
    "print(c)\n",
    "print(type(c))   # 정수형"
   ]
  },
  {
   "cell_type": "code",
   "execution_count": 6,
   "id": "931c2605-2d11-410c-9f73-fb035bc20507",
   "metadata": {},
   "outputs": [
    {
     "name": "stdout",
     "output_type": "stream",
     "text": [
      "10.54\n",
      "<class 'float'>\n"
     ]
    }
   ],
   "source": [
    "f = 10.54\n",
    "print(f)\n",
    "print(type(f))  # 실수형"
   ]
  },
  {
   "cell_type": "code",
   "execution_count": 7,
   "id": "b42510a1-8d66-4609-a7bb-6cb7477686b8",
   "metadata": {},
   "outputs": [
    {
     "name": "stdout",
     "output_type": "stream",
     "text": [
      "5.0\n",
      "<class 'float'>\n"
     ]
    }
   ],
   "source": [
    "a = 10\n",
    "b = 2\n",
    "c = a / b\n",
    "print(c)\n",
    "print(type(c)) # 실수형"
   ]
  },
  {
   "cell_type": "markdown",
   "id": "f88b05d5-7baa-4cad-a5db-94be14956919",
   "metadata": {},
   "source": [
    "### 문자열(string) : 불변형(immutable), 시퀀스형\n",
    "- 문자열은 요소를 수정할수 없는 자료형, 순서를 갖는 자료형 "
   ]
  },
  {
   "cell_type": "code",
   "execution_count": 9,
   "id": "845f1fe7-4911-4d14-acdc-4915cc3f6727",
   "metadata": {},
   "outputs": [
    {
     "name": "stdout",
     "output_type": "stream",
     "text": [
      "Hello Python\n",
      "<class 'str'>\n",
      "Good Bye\n",
      "<class 'str'>\n",
      "\n",
      "Desc : This is a test code!\n",
      "Date : 2025-04-22\n",
      "(C) copyright\n",
      "\n",
      "this is a 'double' quotation\n"
     ]
    }
   ],
   "source": [
    "str1 = \"Hello Python\"\n",
    "print(str1)\n",
    "print(type(str1))  # 문자열(str)\n",
    "\n",
    "str2 = 'Good Bye'\n",
    "print(str2)\n",
    "print(type(str2))   # 문자열(str)\n",
    "\n",
    "# \\ 는 줄바꿈\n",
    "str3 = \\\n",
    "'''\n",
    "Desc : This is a test code!\n",
    "Date : 2025-04-22\n",
    "(C) copyright\n",
    "'''\n",
    "print(str3)\n",
    "\n",
    "str4 = \"this is a 'double' quotation\"\n",
    "print(str4)"
   ]
  },
  {
   "cell_type": "markdown",
   "id": "8ab1557c-667f-4f70-b552-843ef54b8f87",
   "metadata": {},
   "source": [
    "### 문자열의 indexing 과 slicing"
   ]
  },
  {
   "cell_type": "code",
   "execution_count": 11,
   "id": "9389992c-1b6d-4c00-8275-9ed75ca941b7",
   "metadata": {},
   "outputs": [
    {
     "name": "stdout",
     "output_type": "stream",
     "text": [
      "Life is too short, you need python\n",
      "L i f e   n\n",
      "34\n",
      "n o\n"
     ]
    }
   ],
   "source": [
    "# indexing : 문자열의 요소를 접근하는 방법, a[index] , 처음 0번으로 시작\n",
    "a = 'Life is too short, you need python'\n",
    "print(a)\n",
    "print(a[0],a[1],a[2],a[3],a[4],a[33])\n",
    "print(len(a))   # 34\n",
    "print(a[-1],a[-2])     # 뒤에서부터 인덱싱 : 음수(-)로 표현"
   ]
  },
  {
   "cell_type": "code",
   "execution_count": 12,
   "id": "c47b213b-42ae-41c4-8e52-a30cbd309868",
   "metadata": {},
   "outputs": [
    {
     "name": "stdout",
     "output_type": "stream",
     "text": [
      "L\n"
     ]
    }
   ],
   "source": [
    "b = a[0]\n",
    "print(b)\n",
    "# a[0] = 'N'   # TypeError: 'str' object does not support item assignment\n",
    "               # 불변형 데이터는 요소 수정이 불가"
   ]
  },
  {
   "cell_type": "code",
   "execution_count": 48,
   "id": "445c241b-6674-4231-934b-edef1e467103",
   "metadata": {},
   "outputs": [
    {
     "name": "stdout",
     "output_type": "stream",
     "text": [
      "Lif\n",
      "Life is to\n",
      "Lif\n",
      "too short, you need python\n",
      "Life is too short, you need python\n",
      "Life is too short, you need pytho\n",
      "Lesosr ue \n",
      "nohtyp deen uoy ,trohs oot si efiL\n"
     ]
    }
   ],
   "source": [
    "# slicing :    a[start:end + 1:step]   , start <= data < end + 1\n",
    "a = 'Life is too short, you need python'\n",
    "print(a[0:3])    # from 0 to (3 - 1)\n",
    "print(a[0:10])   # from 0 to (10 - 1)\n",
    "\n",
    "print(a[:3])     # from 0 to (3 - 1)\n",
    "print(a[8:])     # 8번 요소 부터  끝까지 , print(a[8:34])와 동일한 결과\n",
    "print(a[:])      # 처음 부터  끝까지 , print(a[0:34])와 동일한 결과\n",
    "\n",
    "print(a[:-1])    # 마지막 문자만 제외\n",
    "print(a[:30:3])  # 처음 부터 29번 째 까지 3개의 간격으로 slicing\n",
    "print(a[::-1])   # 전체 요소의 순서를 거꾸로 바꾼다"
   ]
  },
  {
   "cell_type": "markdown",
   "id": "90ce42cf-5a60-42b7-b0fb-de7dc75f014a",
   "metadata": {},
   "source": [
    "#### 객체 :  파이썬의 모든 변수,  데이터 형은 객체로 관리된다"
   ]
  },
  {
   "cell_type": "code",
   "execution_count": 72,
   "id": "6e88234c-ecaf-41f6-bc75-9fde384418af",
   "metadata": {},
   "outputs": [
    {
     "name": "stdout",
     "output_type": "stream",
     "text": [
      "0x7ffe293e2d58\n",
      "0x7ffe293e2e98\n",
      "0x7ffe293e2d58\n",
      "0x7ffe293e2e98\n"
     ]
    }
   ],
   "source": [
    "a = 30\n",
    "print(hex(id(a)))\n",
    "b = 40\n",
    "print(hex(id(b)))\n",
    "b = a\n",
    "print(hex(id(b)))\n",
    "b = 40\n",
    "print(hex(id(b)))\n",
    "\n",
    "del b   # 객체의 삭제\n",
    "# print(hex(id(b)))"
   ]
  },
  {
   "cell_type": "code",
   "execution_count": 68,
   "id": "575a6b4e-af40-4b3f-a8cf-a46b4ac4f595",
   "metadata": {},
   "outputs": [
    {
     "name": "stdout",
     "output_type": "stream",
     "text": [
      "<class 'int'>\n"
     ]
    }
   ],
   "source": [
    "a = 10             # int class의 객체(인스턴스)를 생성함\n",
    "print(type(a))"
   ]
  },
  {
   "cell_type": "code",
   "execution_count": null,
   "id": "6fb1ff42-0c79-420f-adf9-502d2572f177",
   "metadata": {},
   "outputs": [],
   "source": []
  }
 ],
 "metadata": {
  "kernelspec": {
   "display_name": "Python [conda env:base] *",
   "language": "python",
   "name": "conda-base-py"
  },
  "language_info": {
   "codemirror_mode": {
    "name": "ipython",
    "version": 3
   },
   "file_extension": ".py",
   "mimetype": "text/x-python",
   "name": "python",
   "nbconvert_exporter": "python",
   "pygments_lexer": "ipython3",
   "version": "3.12.7"
  }
 },
 "nbformat": 4,
 "nbformat_minor": 5
}
