{
 "cells": [
  {
   "cell_type": "markdown",
   "id": "378f0523-42af-495a-94e2-0c748937f62d",
   "metadata": {},
   "source": [
    "### 함수(function)\n",
    "- 함수 구현의 목적 : 재사용, 모듈화"
   ]
  },
  {
   "cell_type": "code",
   "execution_count": 2,
   "id": "21b29a89-4890-4a16-86c4-9d7c480f5246",
   "metadata": {},
   "outputs": [],
   "source": [
    "# 함수 구현 방법\n",
    "# '''\n",
    "# def 함수명(매개변수,.....):\n",
    "#     <수행할 문장1>\n",
    "#     <수행할 문장2>\n",
    "#     <수행할 문장3>\n",
    "#     ..\n",
    "#     return 반환할값\n",
    "# '''"
   ]
  },
  {
   "cell_type": "code",
   "execution_count": 4,
   "id": "934ef97a-cdf9-42ba-9233-f1638af4d822",
   "metadata": {},
   "outputs": [],
   "source": [
    "# 수학 함수\n",
    "# f(x) = 10*x + 1   \n",
    "# f(2) = 10*2 + 1 = 21\n",
    "# f(a,b) = a + b\n",
    "# f(10,20) = 10 + 20 = 30"
   ]
  },
  {
   "cell_type": "code",
   "execution_count": 36,
   "id": "176764cc-33aa-4373-acf1-f527c483eaa5",
   "metadata": {},
   "outputs": [
    {
     "name": "stdout",
     "output_type": "stream",
     "text": [
      "add is called!\n",
      "30\n",
      "subtract is called!\n",
      "-10\n",
      "multiply is called!\n",
      "200\n",
      "divide is called!\n",
      "0.5\n",
      "<class 'function'>\n",
      "add is called!\n",
      "7.7\n",
      "add is called!\n",
      "GoodMorning\n",
      "add is called!\n",
      "[1, 2, 3, 4, 5, 6]\n"
     ]
    }
   ],
   "source": [
    "# 함수 정의\n",
    "def add(a,b):\n",
    "    c = a + b\n",
    "    print('add is called!')\n",
    "    return c\n",
    "\n",
    "def subtract(a,b):\n",
    "    c = a - b\n",
    "    print('subtract is called!')\n",
    "    return c\n",
    "\n",
    "def multiply(a,b):\n",
    "    c = a * b\n",
    "    print('multiply is called!')\n",
    "    return c\n",
    "\n",
    "def divide(a,b):\n",
    "    c = a / b\n",
    "    print('divide is called!')\n",
    "    return c\n",
    "\n",
    "# 함수 호출\n",
    "ret = add(10,20)\n",
    "print(ret)\n",
    "\n",
    "ret = subtract(10,20)\n",
    "print(ret)\n",
    "\n",
    "ret = multiply(10,20)\n",
    "print(ret)\n",
    "\n",
    "ret = divide(10,20)\n",
    "print(ret)\n",
    "\n",
    "print(type(add))               # add는 함수 객체 , class 'function'\n",
    "\n",
    "print(add(3.5,4.2))            # float\n",
    "print(add('Good','Morning'))   # str\n",
    "print(add([1,2,3],[4,5,6]))    # list"
   ]
  },
  {
   "cell_type": "code",
   "execution_count": 60,
   "id": "2711d45f-dd75-47b2-ab2c-95441d7454cf",
   "metadata": {},
   "outputs": [],
   "source": [
    "# dir(add)   # '__call__': callable  --> (함수 패러다임)"
   ]
  },
  {
   "cell_type": "markdown",
   "id": "1de3a76a-e157-41f7-afe2-ba9d5116b7d5",
   "metadata": {},
   "source": [
    "### 함수 구현 순서\n",
    "#### (1) def 를 사용하고 함수이름을 결정\n",
    "#### (2) 매개변수(인자)를 결정\n",
    "#### (3) 인자를 사용하여 처리하는 코드를 구현\n",
    "#### (4) return 을 사용하여 결과값을 반환\n",
    "#### (5) 인자를 설정하여 함수를 호출하여 결과를 확인"
   ]
  },
  {
   "cell_type": "code",
   "execution_count": 65,
   "id": "4013fcc7-e06f-483a-8e28-af15a2a20ae1",
   "metadata": {},
   "outputs": [],
   "source": [
    "# 함수의 유형 4가지\n",
    "# [1] 반환값이 없고 인자도 없는 경우\n",
    "# [2] 반환값이 없고 인자는 있는 경우\n",
    "# [3] 반환값이 있고 인자는 없는 경우\n",
    "# [4] 반환값이 있고 인자도 있는 경우"
   ]
  },
  {
   "cell_type": "code",
   "execution_count": 79,
   "id": "e7abbe42-d5fd-4dcf-a9f0-370775553f6f",
   "metadata": {},
   "outputs": [
    {
     "name": "stdout",
     "output_type": "stream",
     "text": [
      "f_1 is called!\n",
      "None\n",
      "<class 'NoneType'>\n"
     ]
    }
   ],
   "source": [
    "# [1] 반환값이 없고 인자도 없는 경우\n",
    "def f_1():\n",
    "    print('f_1 is called!')    \n",
    "\n",
    "ret = f_1()        # None\n",
    "print(ret)\n",
    "print(type(None))  # class 'NoneType'"
   ]
  },
  {
   "cell_type": "code",
   "execution_count": 81,
   "id": "93c877de-fd8b-4f3a-b010-23b32dcac90f",
   "metadata": {},
   "outputs": [
    {
     "name": "stdout",
     "output_type": "stream",
     "text": [
      "f_2 is called!\n",
      "13 7\n",
      "None\n"
     ]
    }
   ],
   "source": [
    "# [2] 반환값이 없고 인자는 있는 경우\n",
    "def f_2(a,b):\n",
    "    print('f_2 is called!')    \n",
    "    print(a + b, a - b)\n",
    "\n",
    "ret = f_2(10,3)\n",
    "print(ret)     # None"
   ]
  },
  {
   "cell_type": "code",
   "execution_count": 103,
   "id": "ce982028-72e1-4f7d-97e7-165224a4e9da",
   "metadata": {},
   "outputs": [
    {
     "name": "stdout",
     "output_type": "stream",
     "text": [
      "f_3 is called!\n",
      "('Bread', 'Butter', 100, [1, 2, 3])\n",
      "<class 'tuple'>\n",
      "f_3 is called!\n",
      "Bread Butter 100 [1, 2, 3]\n"
     ]
    }
   ],
   "source": [
    "# [3] 반환값이 있고 인자는 없는 경우\n",
    "def f_3():\n",
    "    print('f_3 is called!')      \n",
    "    return 'Bread', 'Butter', 100, [1,2,3]\n",
    "\n",
    "ret = f_3()         # tuple로 반환\n",
    "print(ret)\n",
    "print(type(ret))\n",
    "\n",
    "a,b,c,_ = f_3()     # tuple의 언패킹\n",
    "print(a,b,c,_)"
   ]
  },
  {
   "cell_type": "code",
   "execution_count": 105,
   "id": "8afd64f4-2456-43db-a90c-c294b453df34",
   "metadata": {},
   "outputs": [
    {
     "name": "stdout",
     "output_type": "stream",
     "text": [
      "f_4 is called!\n",
      "(8, -2, 15, 0.6)\n"
     ]
    }
   ],
   "source": [
    "# [4] 반환값이 있고 인자도 있는 경우\n",
    "def f_4(a,b):\n",
    "    print('f_4 is called!')   \n",
    "    return a+b,a-b,a*b,a/b\n",
    "    \n",
    "print(f_4(3,5))    "
   ]
  },
  {
   "cell_type": "code",
   "execution_count": 143,
   "id": "be24b1f3-d7b5-426a-bbf0-cf318340d45a",
   "metadata": {},
   "outputs": [
    {
     "name": "stdout",
     "output_type": "stream",
     "text": [
      "foo: 20\n",
      "foo: [1, 2, 3]\n",
      "bar: 30 20 11\n",
      "Global: 10\n"
     ]
    }
   ],
   "source": [
    "# 함수 사용시 변수의 유효 범위 규칙 (Scope Rule)\n",
    "# local 변수 : 지역 변수  , 변수가 선언된 함수내에서만 사용가능\n",
    "# global 변수 : 전역 변수 , 모든 함수안에서 접근 가능\n",
    "# LEGB 규칙 : Local > Enclosing Function Local > Global > Built-in\n",
    "# 핵심 : 지역변수가 전역변수보다 우선한다!!\n",
    "\n",
    "x = 10                          # G : 전역 변수(Global Variable)\n",
    "y = 11                          # G : 전역 변수(Global Variable)\n",
    "\n",
    "def foo():\n",
    "    # global x                  # x가 전역 변수임을 명시\n",
    "    x = 20                      # L : 지역변수(Local Variable)   \n",
    "    foo_list = [1,2,3]          # L : 지역변수(Local Variable)   \n",
    "    print('foo:',x)\n",
    "    print('foo:',foo_list)\n",
    "\n",
    "    def bar():\n",
    "        a = 30                  # L : 지역변수(Local Variable)   \n",
    "        print('bar:',a,x,y)     # a : L, x : E,  y : G\n",
    "        \n",
    "    bar()\n",
    "\n",
    "foo()\n",
    "print('Global:',x)\n"
   ]
  },
  {
   "cell_type": "markdown",
   "id": "c0c12ce6-4721-4aec-8524-4410116b36b0",
   "metadata": {},
   "source": [
    "### 일급함수(First Class Function) : 함수이름을 변수처럼 사용가능하다\n",
    "#### (1) 함수객체를 다른 함수의 인자로 전달할 수 있다\n",
    "#### (2) 함수객체를 반환 값으로 전달할 수 있다\n",
    "#### (3) 함수객체를 다른 자료 구조에 저장해서 사용 가능"
   ]
  },
  {
   "cell_type": "code",
   "execution_count": 162,
   "id": "22479458-3f2a-4c59-a780-2c19213364db",
   "metadata": {},
   "outputs": [
    {
     "name": "stdout",
     "output_type": "stream",
     "text": [
      "func_two is called!\n",
      "add_two is called!\n",
      "30\n"
     ]
    }
   ],
   "source": [
    "# (1) 함수객체를 다른 함수의 인자로 전달할 수 있다\n",
    "def add_two(a,b):\n",
    "    print('add_two is called!')\n",
    "    return a + b\n",
    "\n",
    "# print(type(add_two))\n",
    "# b = add_two\n",
    "# print(type(b))\n",
    "# print(b(10,20))\n",
    "\n",
    "def func_two(func,a,b,):\n",
    "    print('func_two is called!')\n",
    "    result = func(a,b)\n",
    "    return result\n",
    "\n",
    "result = func_two(add_two,10,20)\n",
    "print(result)"
   ]
  },
  {
   "cell_type": "code",
   "execution_count": 170,
   "id": "39116fb5-8c24-48fe-8aa8-0c7c67e93f1b",
   "metadata": {},
   "outputs": [
    {
     "name": "stdout",
     "output_type": "stream",
     "text": [
      "foo2 is called!\n",
      "<class 'function'>\n",
      "bar2 is called!\n"
     ]
    }
   ],
   "source": [
    "# (2) 함수객체를 반환 값으로 전달할 수 있다\n",
    "def foo2():\n",
    "    print('foo2 is called!')\n",
    "    \n",
    "    def bar2():\n",
    "        print('bar2 is called!')\n",
    "\n",
    "    return bar2\n",
    "\n",
    "ret = foo2()\n",
    "print(type(ret))\n",
    "ret()"
   ]
  },
  {
   "cell_type": "code",
   "execution_count": null,
   "id": "84b90790-094c-4959-94f4-f7a08976642c",
   "metadata": {},
   "outputs": [],
   "source": []
  }
 ],
 "metadata": {
  "kernelspec": {
   "display_name": "Python [conda env:base] *",
   "language": "python",
   "name": "conda-base-py"
  },
  "language_info": {
   "codemirror_mode": {
    "name": "ipython",
    "version": 3
   },
   "file_extension": ".py",
   "mimetype": "text/x-python",
   "name": "python",
   "nbconvert_exporter": "python",
   "pygments_lexer": "ipython3",
   "version": "3.12.7"
  }
 },
 "nbformat": 4,
 "nbformat_minor": 5
}
