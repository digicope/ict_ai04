{
 "cells": [
  {
   "cell_type": "markdown",
   "id": "db1c7aa6-8624-41a2-8fc3-657c259d71fa",
   "metadata": {},
   "source": [
    "### 리스트(list) : 가변형(mutable), 시퀀스, 가장 유용한 자료형, [ ] :대괄호, 중복 허용"
   ]
  },
  {
   "cell_type": "code",
   "execution_count": 6,
   "id": "d4fdb0c7-d474-485d-b197-c92f2b35f102",
   "metadata": {},
   "outputs": [
    {
     "name": "stdout",
     "output_type": "stream",
     "text": [
      "[1, 2, 3, 4, 5]\n",
      "<class 'list'>\n",
      "['a', 'hello', 1, 3.5, [1, 2, 3, 4, 5], 3.5, 1]\n"
     ]
    }
   ],
   "source": [
    "a = [1,2,3,4,5]\n",
    "print(a)\n",
    "print(type(a))\n",
    "\n",
    "b = ['a','hello',1,3.5,a,3.5,1]\n",
    "print(b)"
   ]
  },
  {
   "cell_type": "code",
   "execution_count": 18,
   "id": "d36dad09-bee0-4f4c-9449-580b92ff3567",
   "metadata": {},
   "outputs": [
    {
     "name": "stdout",
     "output_type": "stream",
     "text": [
      "1 2 3 6 6\n",
      "[10, 2, 3, 4, 5, 6]\n"
     ]
    }
   ],
   "source": [
    "# 인덱싱\n",
    "a = [1,2,3,4,5,6]\n",
    "print(a[0],a[1],a[2],a[5],a[-1])\n",
    "\n",
    "a[0] = 10        # 가변형이므로 요소 변경이 가능하다\n",
    "print(a) "
   ]
  },
  {
   "cell_type": "code",
   "execution_count": 34,
   "id": "ab6ebe7a-819a-4384-a7a1-3946311e44e0",
   "metadata": {},
   "outputs": [
    {
     "name": "stdout",
     "output_type": "stream",
     "text": [
      "[10, 2, 3]\n",
      "[10, 2, 3, 4, 5]\n",
      "[6, 5, 4, 3, 2, 10]\n"
     ]
    }
   ],
   "source": [
    "# 슬라이싱\n",
    "print(a[:3])   # from 0 to (3 - 1)\n",
    "print(a[:-1])  # 마지막 요소만 제외\n",
    "print(a[::-1]) # 요소의 순서를 거꾸로 변경한다"
   ]
  },
  {
   "cell_type": "code",
   "execution_count": 60,
   "id": "6b4ff919-7f36-4381-8d93-793a67bb9efa",
   "metadata": {},
   "outputs": [
    {
     "name": "stdout",
     "output_type": "stream",
     "text": [
      "[0, 1, 2, 3, 4, 5, 6, 7, 8, 9]\n",
      "[0, 1, 2, 3, 4, 5, 6, 7, 8, 9]\n",
      "[0, 1, 2, 3, 4, 5, 6, 7, 8, 9]\n"
     ]
    }
   ],
   "source": [
    "# range(start,end+1,step)\n",
    "print(list(range(0,10,1)))\n",
    "print(list(range(10)))\n",
    "print(list(range(0,10)))"
   ]
  },
  {
   "cell_type": "markdown",
   "id": "523106a9-7d19-4757-9caa-f1f1d7b875f8",
   "metadata": {},
   "source": [
    "### 튜플(tuple) : 불변형(immutable), 시퀀스형, ( ):소괄호 사용,중복 허용¶"
   ]
  },
  {
   "cell_type": "code",
   "execution_count": 73,
   "id": "7d164704-b553-4f0f-8b33-c964f1e17a2b",
   "metadata": {},
   "outputs": [
    {
     "name": "stdout",
     "output_type": "stream",
     "text": [
      "(1, 2, 3, 4, 5)\n",
      "<class 'tuple'>\n"
     ]
    }
   ],
   "source": [
    "a = (1,2,3,4,5)\n",
    "print(a)\n",
    "print(type(a))"
   ]
  },
  {
   "cell_type": "code",
   "execution_count": 75,
   "id": "67c43e7e-eaeb-4e4c-bf14-95089416e582",
   "metadata": {},
   "outputs": [],
   "source": [
    "# 문자열과 리스트,튜플은 인덱싱과 슬라이싱 방법이 동일"
   ]
  },
  {
   "cell_type": "code",
   "execution_count": 79,
   "id": "16e0a291-7d13-43a6-9cd5-064f6d01ba75",
   "metadata": {},
   "outputs": [],
   "source": [
    "# a[0] = 10  # TypeError  , 불변형이므로 요소 수정이 불가"
   ]
  },
  {
   "cell_type": "code",
   "execution_count": 87,
   "id": "cbbf81f4-902a-43d3-a597-bb2ac3cc4932",
   "metadata": {},
   "outputs": [
    {
     "name": "stdout",
     "output_type": "stream",
     "text": [
      "1 2 hello\n"
     ]
    }
   ],
   "source": [
    "# 패킹(packing), 언패킹 튜플\n",
    "t = (1,2,'hello')   # 패킹\n",
    "t = 1,2,'hello'     # 괄호 생략이 가능, 쉼표로 데이터가 구분되어 있으면 튜플, 패킹\n",
    "a,b,c = t           # 언패킹\n",
    "print(a,b,c)"
   ]
  },
  {
   "cell_type": "code",
   "execution_count": 101,
   "id": "81738ed3-f9ca-48b2-abd7-82eee7a8d390",
   "metadata": {},
   "outputs": [
    {
     "name": "stdout",
     "output_type": "stream",
     "text": [
      "<class 'tuple'>\n",
      "<class 'tuple'>\n",
      "<class 'int'>\n",
      "<class 'tuple'>\n",
      "<class 'tuple'>\n"
     ]
    }
   ],
   "source": [
    "a = (1,2)\n",
    "print(type(a))   # tuple\n",
    "a = 1,2\n",
    "print(type(a))   # tuple\n",
    "a = (1)\n",
    "print(type(a))   # int\n",
    "a = (1,)\n",
    "print(type(a))   # tuple\n",
    "a = 1,\n",
    "print(type(a))   # tuple"
   ]
  },
  {
   "cell_type": "code",
   "execution_count": 95,
   "id": "d93b0c4e-b62a-4b3b-b4f0-f3f46947541f",
   "metadata": {},
   "outputs": [
    {
     "data": {
      "text/plain": [
       "10.0"
      ]
     },
     "execution_count": 95,
     "metadata": {},
     "output_type": "execute_result"
    }
   ],
   "source": [
    "a,b,c = 10,20,'Hi'   # 언패킹"
   ]
  },
  {
   "cell_type": "code",
   "execution_count": 105,
   "id": "3a6c047c-a877-4015-9d69-c9b6a590f2d2",
   "metadata": {},
   "outputs": [
    {
     "name": "stdout",
     "output_type": "stream",
     "text": [
      "2 1\n",
      "2 1\n"
     ]
    }
   ],
   "source": [
    "# 두 개의 값을 서로 변경하는 코드\n",
    "# x : 1, y : 2\n",
    "\n",
    "# (1) 전통 언어 방식\n",
    "x = 1\n",
    "y = 2\n",
    "temp = x\n",
    "x = y\n",
    "y = temp\n",
    "print(x,y)\n",
    "\n",
    "# (2) 파이썬 방식(튜플의 언패킹 사용) \n",
    "x,y = 1,2\n",
    "x,y = y,x\n",
    "print(x,y)"
   ]
  },
  {
   "cell_type": "markdown",
   "id": "28911d26-08a9-4e76-b0f2-9082b7b7e089",
   "metadata": {},
   "source": [
    "### 사전(dict): 가변형(mutable), 순서가 없다, 연관형, 매핑형 ,{ } : 중괄호사용\n",
    "#### {key:value,.....}, key 는 반드시 immutable형 이어야 한다(숫자형,문자열,튜플),\n",
    "#### value 는 mutable,immutable 모두 사용 가능하다"
   ]
  },
  {
   "cell_type": "code",
   "execution_count": 110,
   "id": "bd5f66b4-423e-42b8-b0d4-7a87b1f94cf5",
   "metadata": {},
   "outputs": [
    {
     "name": "stdout",
     "output_type": "stream",
     "text": [
      "{'name': '홍길동', 'age': 30, 'birth': '20250424', 10: 100}\n",
      "<class 'dict'>\n"
     ]
    }
   ],
   "source": [
    "a = {'name':'홍길동', 'age':30,'birth':'20250424',10:100}\n",
    "print(a)\n",
    "print(type(a))"
   ]
  },
  {
   "cell_type": "code",
   "execution_count": 122,
   "id": "b1745bb7-1044-40d5-bac8-79bdfa98c9ef",
   "metadata": {},
   "outputs": [
    {
     "name": "stdout",
     "output_type": "stream",
     "text": [
      "홍길동 30 20250424 100\n"
     ]
    }
   ],
   "source": [
    "# 요소 접근 : a[key]\n",
    "print(a['name'],a['age'],a['birth'],a[10])"
   ]
  },
  {
   "cell_type": "code",
   "execution_count": 126,
   "id": "18685e61-d6fd-4f15-a342-fe9814c4b9a3",
   "metadata": {},
   "outputs": [
    {
     "name": "stdout",
     "output_type": "stream",
     "text": [
      "{'name': '김철수', 'age': 30, 'birth': '20250424', 10: 100}\n"
     ]
    }
   ],
   "source": [
    "# 요소 수정\n",
    "a['name'] = '김철수'\n",
    "print(a)"
   ]
  },
  {
   "cell_type": "code",
   "execution_count": 130,
   "id": "ebacd214-a975-4a44-9122-10890611cd8c",
   "metadata": {},
   "outputs": [
    {
     "name": "stdout",
     "output_type": "stream",
     "text": [
      "{'name': '김철수', 'age': 30, 'birth': '20250424', 10: 100, '주소': '서울시'}\n"
     ]
    }
   ],
   "source": [
    "# 요소 추가\n",
    "a['주소'] = '서울시'\n",
    "print(a)"
   ]
  },
  {
   "cell_type": "code",
   "execution_count": 132,
   "id": "904f63cf-46e8-44c3-abdd-2cb9d882c0fd",
   "metadata": {},
   "outputs": [
    {
     "name": "stdout",
     "output_type": "stream",
     "text": [
      "{'name': '김철수', 'age': 30, 'birth': '20250424', 10: 100}\n"
     ]
    }
   ],
   "source": [
    "# 제거\n",
    "del a['주소']\n",
    "print(a)"
   ]
  },
  {
   "cell_type": "code",
   "execution_count": 148,
   "id": "d98aa4ca-91dc-4d08-bf76-adb5b51cb1ec",
   "metadata": {},
   "outputs": [
    {
     "name": "stdout",
     "output_type": "stream",
     "text": [
      "{'a': 97, 'b': 98, 'c': 99, 'd': 100, 'e': 101, 'f': 102, 'g': 103}\n"
     ]
    }
   ],
   "source": [
    "# 사전 내장(dict comprehension)\n",
    "a = {k:ord(k) for k in 'abcdefg'}\n",
    "print(a)"
   ]
  },
  {
   "cell_type": "code",
   "execution_count": 138,
   "id": "c321b10f-f189-4b3e-b143-15bbdd3eaca5",
   "metadata": {},
   "outputs": [
    {
     "data": {
      "text/plain": [
       "97"
      ]
     },
     "execution_count": 138,
     "metadata": {},
     "output_type": "execute_result"
    }
   ],
   "source": [
    "ord('a')  # 문자 --> 아스키값"
   ]
  },
  {
   "cell_type": "code",
   "execution_count": 150,
   "id": "84c0d643-a275-42ab-afd6-dc4eb0e48891",
   "metadata": {},
   "outputs": [
    {
     "data": {
      "text/plain": [
       "'a'"
      ]
     },
     "execution_count": 150,
     "metadata": {},
     "output_type": "execute_result"
    }
   ],
   "source": [
    "chr(97)   # 아스키값 --> 문자"
   ]
  },
  {
   "cell_type": "markdown",
   "id": "06f81aa6-c91c-4303-81d7-40c7981e162e",
   "metadata": {},
   "source": [
    "#### 집합(set) : mutable, 순서가 없다, { }중괄호 사용, 중복을 허용하지 않는다"
   ]
  },
  {
   "cell_type": "code",
   "execution_count": 153,
   "id": "cfefc41c-f1d6-4ed9-93f8-3728624356ca",
   "metadata": {},
   "outputs": [
    {
     "name": "stdout",
     "output_type": "stream",
     "text": [
      "{1, 2, 3, 4}\n",
      "<class 'set'>\n"
     ]
    }
   ],
   "source": [
    "s = {1,2,3,4}\n",
    "print(s)\n",
    "print(type(s))"
   ]
  },
  {
   "cell_type": "code",
   "execution_count": 157,
   "id": "c6da44b6-f739-4d9e-9eca-f46d4b9a30e8",
   "metadata": {},
   "outputs": [
    {
     "name": "stdout",
     "output_type": "stream",
     "text": [
      "[8, 1, 4, 6]\n"
     ]
    }
   ],
   "source": [
    "# 리스트에서 중복된 요소를 제거\n",
    "l = [4,4,4,6,6,6,1,1,1,8,8,8]\n",
    "s = list(set(l))   \n",
    "print(s)"
   ]
  },
  {
   "cell_type": "code",
   "execution_count": null,
   "id": "6c79c3ce-eb7b-44a3-9ef2-95970fc8a7b2",
   "metadata": {},
   "outputs": [],
   "source": [
    "a = 10             # 정수형\n",
    "a = 5.23           # 실수형\n",
    "a = [1,2,3]        # 리스트(list)\n",
    "a = (1,2,3)        # 튜플(tuple)\n",
    "a = {'a':'hello'}  # 사전(dict)\n",
    "a = {1,2,3}        # 집합(set)\n",
    "a = True           # bool"
   ]
  }
 ],
 "metadata": {
  "kernelspec": {
   "display_name": "Python [conda env:base] *",
   "language": "python",
   "name": "conda-base-py"
  },
  "language_info": {
   "codemirror_mode": {
    "name": "ipython",
    "version": 3
   },
   "file_extension": ".py",
   "mimetype": "text/x-python",
   "name": "python",
   "nbconvert_exporter": "python",
   "pygments_lexer": "ipython3",
   "version": "3.12.7"
  }
 },
 "nbformat": 4,
 "nbformat_minor": 5
}
